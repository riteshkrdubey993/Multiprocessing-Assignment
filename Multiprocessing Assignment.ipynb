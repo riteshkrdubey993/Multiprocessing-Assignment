{
 "cells": [
  {
   "cell_type": "markdown",
   "id": "85182a0e-e176-4b26-9acc-eb13c7bd4cb5",
   "metadata": {},
   "source": [
    "### Q1. What is multiprocessing in python? Why is it useful?"
   ]
  },
  {
   "cell_type": "markdown",
   "id": "20e5d4d9-779f-4932-aad1-34dd1598c96f",
   "metadata": {},
   "source": [
    "Multiprocessing in Python refers to the capability of a program to execute multiple processes in parallel. Each process runs independently and has its own Python interpreter and memory space, allowing for true parallelism on systems with multiple CPU cores. The multiprocessing module in Python provides a convenient way to create and manage processes.\n",
    "\n",
    "Key components of the multiprocessing module include the Process class for creating processes, communication mechanisms like pipes and queues for inter-process communication, and synchronization primitives like locks and semaphores. Here are some reasons why multiprocessing in Python is useful:\n",
    "\n",
    "1. True Parallelism: Unlike multithreading, which may be limited by the Global Interpreter Lock (GIL) in CPython, multiprocessing allows for true parallelism. Each process runs in its own interpreter, enabling multiple CPU cores to be utilized simultaneously.\n",
    "2. Performance Improvement: Multiprocessing can lead to significant performance improvements, especially for CPU-bound tasks. By distributing the workload across multiple processes, the program can take advantage of available CPU cores and perform computations more efficiently.\n",
    "3. Isolation: Each process has its own memory space, reducing the risk of data corruption and making it easier to reason about the behavior of the program. Processes do not share global variables by default, which helps avoid certain types of bugs related to shared state.\n",
    "4. Fault Isolation: If one process encounters an error or crashes, it does not necessarily affect the execution of other processes. Processes are separate entities with their own memory and resources.\n",
    "5. Compatibility: Multiprocessing is a portable solution that works well on various platforms and operating systems. It is not affected by the limitations of the Global Interpreter Lock, making it suitable for a wide range of applications.\n",
    "\n",
    "Here's a simple example of using the multiprocessing module to calculate squares of numbers in parallel:"
   ]
  },
  {
   "cell_type": "code",
   "execution_count": 5,
   "id": "7a62a75e-d013-4a3e-aff4-4ed96493c81b",
   "metadata": {},
   "outputs": [
    {
     "name": "stdout",
     "output_type": "stream",
     "text": [
      "1\n",
      "4\n",
      "9\n",
      "16\n",
      "25\n",
      "All processes have finished\n"
     ]
    }
   ],
   "source": [
    "import multiprocessing\n",
    "\n",
    "def calculate_square(number):\n",
    "    result = number ** 2\n",
    "    print(result)\n",
    "    \n",
    "if __name__ == '__main__':\n",
    "    number = [1, 2, 3, 4, 5]\n",
    "    \n",
    "    processes = []\n",
    "    for number in number:\n",
    "        process = multiprocessing.Process(target = calculate_square, args = (number,))\n",
    "        processes.append(process)\n",
    "        process.start()\n",
    "        \n",
    "    for process in processes:\n",
    "        process.join()\n",
    "        \n",
    "    print('All processes have finished')"
   ]
  },
  {
   "cell_type": "markdown",
   "id": "0c8b00a6-2d7f-40d5-a5b2-6e7cadb8076c",
   "metadata": {},
   "source": [
    "### Q2. What are the differences between multiprocessing and multithreading?"
   ]
  },
  {
   "cell_type": "markdown",
   "id": "a7e5cf30-2ab0-43c7-bb04-db16033aa6db",
   "metadata": {},
   "source": [
    "Multiprocessing and multithreading are both techniques used to achieve concurrent execution in a program, but they have key differences in terms of implementation, advantages, and use cases. Here are some of the main differences between multiprocessing and multithreading:\n",
    "\n",
    "## Multiprocessing: \n",
    "1. In multiprocessing, multiple processes run independently, each with its own memory space and Python interpreter. Processes can run in parallel on multiple CPU cores.\n",
    "2. Enables true parallelism, as each process can run on a separate CPU core.\n",
    "3. Processes have their own memory space, providing a high degree of isolation. Communication between processes is typically achieved through inter-process communication (IPC) mechanisms.\n",
    "4. Generally consumes more memory because each process has its own memory space.\n",
    "5. Communication between processes is achieved through IPC mechanisms such as pipes, queues, and shared memory.\n",
    "6. Can be more complex to implement due to the need for IPC and explicit communication between processes.\n",
    "7. If one process crashes, it does not affect other processes. Processes are isolated.\n",
    "8. Well-suited for CPU-bound tasks that can benefit from parallelism, especially on multi-core systems.\n",
    "\n",
    "## Multithreading:\n",
    "1. In multithreading, multiple threads run within a single process, sharing the same memory space and Python interpreter. Threads are lighter-weight than processes and are managed by the operating system or a threading library.\n",
    "2. Limited parallelism due to the Global Interpreter Lock (GIL) in CPython, which allows only one thread to execute Python bytecode at a time. However, multithreading can still be effective for I/O-bound tasks.\n",
    "3. Threads share the same memory space, which requires careful synchronization to avoid race conditions and data corruption.\n",
    "4. Consumes less memory compared to multiprocessing since threads share the same memory space.\n",
    "5. Communication between threads is more straightforward as they share the same memory. However, this requires careful synchronization to avoid race conditions.\n",
    "6. Can be simpler to implement, especially for I/O-bound tasks. However, proper synchronization is crucial to avoid race conditions.\n",
    "7. A crash or error in one thread can potentially affect the entire process.\n",
    "8. Effective for I/O-bound tasks, such as network communication or file operations, where threads can perform other tasks while waiting for I/O operations to complete."
   ]
  },
  {
   "cell_type": "markdown",
   "id": "5049f1f0-886d-4605-8c7a-f96d074c1b0b",
   "metadata": {},
   "source": [
    "### Q3. Write a python code to create a process using the multiprocessing module."
   ]
  },
  {
   "cell_type": "code",
   "execution_count": 8,
   "id": "0f2747f6-55f6-49bc-97d2-dfa0bd803bfd",
   "metadata": {},
   "outputs": [
    {
     "name": "stdout",
     "output_type": "stream",
     "text": [
      "1\n",
      "8\n",
      "27\n",
      "64\n",
      "125\n"
     ]
    }
   ],
   "source": [
    "import multiprocessing\n",
    "\n",
    "def calculate_cube(number):\n",
    "    result = number ** 3\n",
    "    print(result)\n",
    "    \n",
    "if __name__=='__main__':\n",
    "    number = [1, 2, 3, 4, 5]\n",
    "    processes = []\n",
    "    for number in number:\n",
    "        process = multiprocessing.Process(target = calculate_cube, args = (number,))\n",
    "        processes.append(process)\n",
    "        process.start()\n",
    "        \n",
    "    for process in processes:\n",
    "        process.join()"
   ]
  },
  {
   "cell_type": "markdown",
   "id": "1228df91-7ba4-4746-8868-94c35d5c8a33",
   "metadata": {},
   "source": [
    "### Q4. What is a multiprocessing pool in python? Why is it used?"
   ]
  },
  {
   "cell_type": "markdown",
   "id": "59b59598-4eee-4300-9eec-480f7cb39d4c",
   "metadata": {},
   "source": [
    "A multiprocessing pool in Python, specifically provided by the multiprocessing module, is a high-level abstraction that allows for parallel processing of a function across multiple input values. It simplifies the distribution of work among multiple processes by managing a pool of worker processes that can execute tasks concurrently.\n",
    "\n",
    "The primary class for creating a multiprocessing pool is multiprocessing.Pool. The pool creates a specified number of worker processes, and you can submit tasks to the pool. The pool distributes the tasks among the worker processes, executes them in parallel, and gathers the results."
   ]
  },
  {
   "cell_type": "code",
   "execution_count": 12,
   "id": "f8c7925a-ee54-413a-b2a3-b7629d53d6bf",
   "metadata": {},
   "outputs": [
    {
     "name": "stdout",
     "output_type": "stream",
     "text": [
      "[1, 8, 27, 64, 125]\n"
     ]
    }
   ],
   "source": [
    "import multiprocessing\n",
    "\n",
    "def calculate_square(number):\n",
    "    result = number ** 3\n",
    "    return result\n",
    "    \n",
    "if __name__=='__main__':\n",
    "    \n",
    "    \n",
    "    with multiprocessing.Pool(processes = 4) as pool:\n",
    "        number = [1, 2, 3, 4, 5]\n",
    "        results = pool.map(calculate_square, number)\n",
    "        print(results)"
   ]
  },
  {
   "cell_type": "markdown",
   "id": "b3562f44-7fc1-478f-bd62-bdcae5253c52",
   "metadata": {},
   "source": [
    "Key reasons for using a multiprocessing pool:\n",
    "\n",
    "1. Parallel Processing: The main advantage of using a multiprocessing pool is to achieve parallelism. The pool distributes tasks among multiple processes, allowing them to execute concurrently and potentially speeding up the overall execution time.\n",
    "2. Simplified API: The pool abstraction simplifies the process of parallelizing tasks. You don't need to manage the creation and synchronization of individual processes manually; the pool takes care of these details.\n",
    "3. Resource Management: The pool manages the creation and termination of worker processes, making it convenient for handling the allocation and release of system resources.\n",
    "4. Task Distribution: The pool evenly distributes tasks among available worker processes, providing a balanced workload distribution.\n",
    "5. Result Gathering: The pool allows you to gather and process results easily, simplifying the aggregation of individual task outcomes."
   ]
  },
  {
   "cell_type": "markdown",
   "id": "0e2ceb83-9534-4cef-9ab4-a3bd5bdf67f9",
   "metadata": {},
   "source": [
    "### Q5. How can we create a pool of worker processes in python using the multiprocessing module?"
   ]
  },
  {
   "cell_type": "markdown",
   "id": "073826e1-7fcb-4290-9960-29c85eecaa86",
   "metadata": {},
   "source": [
    "In Python, you can create a pool of worker processes using the multiprocessing module, specifically the Pool class. The Pool class provides a convenient way to parallelize the execution of a function across multiple input values. Here's a simple example:"
   ]
  },
  {
   "cell_type": "code",
   "execution_count": 15,
   "id": "6aa0f4ce-998b-4547-bcb6-155b19325222",
   "metadata": {},
   "outputs": [
    {
     "name": "stdout",
     "output_type": "stream",
     "text": [
      "[1, 4, 9, 16, 25]\n"
     ]
    }
   ],
   "source": [
    "import multiprocessing\n",
    "\n",
    "def square_number(number):\n",
    "    result =  number ** 2\n",
    "    return result\n",
    "if __name__==\"__main__\":\n",
    "    \n",
    "    with multiprocessing.Pool(processes = 3) as pool:\n",
    "        number = [1, 2, 3, 4, 5]\n",
    "        results = pool.map(square_number, number)\n",
    "        \n",
    "        print(results)"
   ]
  },
  {
   "cell_type": "markdown",
   "id": "6eebab87-d003-46a6-98f9-0818b8221423",
   "metadata": {},
   "source": [
    "### Q6. Write a python program to create 4 processes, each process should print a different number using the multiprocessing module in python."
   ]
  },
  {
   "cell_type": "code",
   "execution_count": 19,
   "id": "109863a9-e279-40f2-8588-cba4c980d067",
   "metadata": {},
   "outputs": [
    {
     "name": "stdout",
     "output_type": "stream",
     "text": [
      "[1, 2, 3, 4, 5]\n"
     ]
    }
   ],
   "source": [
    "import multiprocessing\n",
    "\n",
    "\n",
    "def random_number(number):\n",
    "    return number\n",
    "\n",
    "if __name__=='__main__':\n",
    "    \n",
    "    with multiprocessing.Pool(processes = 4) as pool:\n",
    "        number = [1, 2, 3, 4, 5]\n",
    "        result = pool.map(random_number, number)\n",
    "        print(result)"
   ]
  },
  {
   "cell_type": "code",
   "execution_count": null,
   "id": "a8df697d-eb96-40a9-8e5a-e4ea71845129",
   "metadata": {},
   "outputs": [],
   "source": []
  },
  {
   "cell_type": "code",
   "execution_count": null,
   "id": "ef35b8ee-0d5b-4e34-b9bc-1f6e50c8665a",
   "metadata": {},
   "outputs": [],
   "source": []
  },
  {
   "cell_type": "code",
   "execution_count": null,
   "id": "2369c322-9e32-4cc9-a3f4-fcc25b51fd62",
   "metadata": {},
   "outputs": [],
   "source": []
  },
  {
   "cell_type": "code",
   "execution_count": null,
   "id": "5779e800-517e-4f41-aac7-9bd555211ce3",
   "metadata": {},
   "outputs": [],
   "source": []
  },
  {
   "cell_type": "code",
   "execution_count": null,
   "id": "681b09fc-c317-4ebd-b052-566d393100aa",
   "metadata": {},
   "outputs": [],
   "source": []
  },
  {
   "cell_type": "code",
   "execution_count": null,
   "id": "eaf47bc5-d7d2-4caf-b537-052558d07b72",
   "metadata": {},
   "outputs": [],
   "source": []
  },
  {
   "cell_type": "code",
   "execution_count": null,
   "id": "3e7bb740-0b35-402f-af0c-a164da3d520e",
   "metadata": {},
   "outputs": [],
   "source": []
  },
  {
   "cell_type": "code",
   "execution_count": null,
   "id": "3f85b3eb-616d-4e0f-991e-99a8f7eba8e8",
   "metadata": {},
   "outputs": [],
   "source": []
  },
  {
   "cell_type": "code",
   "execution_count": null,
   "id": "839527fb-d32d-4813-9e7c-930e5d6a47c5",
   "metadata": {},
   "outputs": [],
   "source": []
  },
  {
   "cell_type": "code",
   "execution_count": null,
   "id": "b4329d15-22ab-4819-b43e-444377c1a7ec",
   "metadata": {},
   "outputs": [],
   "source": []
  },
  {
   "cell_type": "code",
   "execution_count": null,
   "id": "9900098f-ab7d-430b-8700-8dfeb34e6345",
   "metadata": {},
   "outputs": [],
   "source": []
  },
  {
   "cell_type": "code",
   "execution_count": null,
   "id": "54fdbc32-b45a-4fbc-a304-1517957f1b43",
   "metadata": {},
   "outputs": [],
   "source": []
  }
 ],
 "metadata": {
  "kernelspec": {
   "display_name": "Python 3 (ipykernel)",
   "language": "python",
   "name": "python3"
  },
  "language_info": {
   "codemirror_mode": {
    "name": "ipython",
    "version": 3
   },
   "file_extension": ".py",
   "mimetype": "text/x-python",
   "name": "python",
   "nbconvert_exporter": "python",
   "pygments_lexer": "ipython3",
   "version": "3.10.8"
  }
 },
 "nbformat": 4,
 "nbformat_minor": 5
}
